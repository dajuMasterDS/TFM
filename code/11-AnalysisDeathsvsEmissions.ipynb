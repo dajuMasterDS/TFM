{
 "cells": [
  {
   "cell_type": "code",
   "execution_count": 1,
   "metadata": {
    "collapsed": true
   },
   "outputs": [],
   "source": [
    "import pandas as pd\n",
    "import numpy  as np\n",
    "import csv\n",
    "import matplotlib.pyplot as plt\n",
    "import seaborn as sns\n",
    "from ipywidgets import interact, interactive, fixed, interact_manual\n",
    "from glob import glob"
   ]
  },
  {
   "cell_type": "code",
   "execution_count": 2,
   "metadata": {
    "collapsed": true
   },
   "outputs": [],
   "source": [
    "#Listado de ficheros entrada DeathsEmissions por emisión\n",
    "DfTotalContCausSexo = pd.read_csv('../data/csv/TotalDeathsxContCausSexo.csv',sep=';',compression='gzip')"
   ]
  },
  {
   "cell_type": "code",
   "execution_count": 3,
   "metadata": {
    "collapsed": true
   },
   "outputs": [],
   "source": [
    "#Listado CIE-10\n",
    "DfCie10 = pd.read_csv('../data/csv/CIE-10.csv',sep=';')"
   ]
  },
  {
   "cell_type": "code",
   "execution_count": 4,
   "metadata": {},
   "outputs": [
    {
     "name": "stderr",
     "output_type": "stream",
     "text": [
      "/home/dsc/anaconda3/lib/python3.6/site-packages/ipykernel_launcher.py:4: SettingWithCopyWarning: \n",
      "A value is trying to be set on a copy of a slice from a DataFrame\n",
      "\n",
      "See the caveats in the documentation: http://pandas.pydata.org/pandas-docs/stable/indexing.html#indexing-view-versus-copy\n",
      "  after removing the cwd from sys.path.\n"
     ]
    }
   ],
   "source": [
    "#Incluye descripción causa de muerte y descripción sexo\n",
    "DfTotalContCausSexo = pd.merge(DfTotalContCausSexo, DfCie10, on='CausaMuertebas1')\n",
    "DfTotalContCausSexo['SexoDescripcion'] = 'Varón'\n",
    "DfTotalContCausSexo['SexoDescripcion'][DfTotalContCausSexo['Sexo'] == 6] = 'Mujer'"
   ]
  },
  {
   "cell_type": "code",
   "execution_count": 5,
   "metadata": {
    "collapsed": true
   },
   "outputs": [],
   "source": [
    "DfTotalContCausSexo['ContaminanteN'] = pd.Categorical(DfTotalContCausSexo['Contaminante']).codes "
   ]
  },
  {
   "cell_type": "code",
   "execution_count": 6,
   "metadata": {
    "collapsed": true
   },
   "outputs": [],
   "source": [
    "ListaContaminantes = DfTotalContCausSexo['Contaminante'].unique()"
   ]
  },
  {
   "cell_type": "code",
   "execution_count": 7,
   "metadata": {
    "collapsed": true
   },
   "outputs": [],
   "source": [
    "def FContaminante(Contaminante):\n",
    "    Df1 = DfTotalContCausSexo[DfTotalContCausSexo['Contaminante'] == Contaminante]\n",
    "    sns.barplot(data=Df1, x='Descripcion', y='TotalDeaths', hue='SexoDescripcion')\n",
    "    sns.color_palette(\"RdBu\", n_colors=5)\n",
    "#    sns.boxplot(x=\"Descripcion\", y=\"TotalDeaths\", hue=\"SexoDescripcion\", data=Df1, palette=\"RdBu\")\n",
    "    plt.suptitle('Total Defunciones por Contaminante y Causa de Muerte de 2012 a 2015') \n",
    "    plt.xlabel('Causas de Muerte') \n",
    "    plt.ylabel('Total Defunciones') \n",
    "    plt.xticks(rotation = 90)\n",
    "    plt.show()\n",
    "    "
   ]
  },
  {
   "cell_type": "code",
   "execution_count": 8,
   "metadata": {
    "scrolled": false
   },
   "outputs": [
    {
     "data": {
      "application/vnd.jupyter.widget-view+json": {
       "model_id": "8ebba56cbaa24b08963e0da8048122ae",
       "version_major": 2,
       "version_minor": 0
      },
      "text/plain": [
       "A Jupyter Widget"
      ]
     },
     "metadata": {},
     "output_type": "display_data"
    },
    {
     "data": {
      "text/plain": [
       "<function __main__.FContaminante>"
      ]
     },
     "execution_count": 8,
     "metadata": {},
     "output_type": "execute_result"
    }
   ],
   "source": [
    "interact(FContaminante,Contaminante = ListaContaminantes)"
   ]
  }
 ],
 "metadata": {
  "kernelspec": {
   "display_name": "Python 3",
   "language": "python",
   "name": "python3"
  },
  "language_info": {
   "codemirror_mode": {
    "name": "ipython",
    "version": 3
   },
   "file_extension": ".py",
   "mimetype": "text/x-python",
   "name": "python",
   "nbconvert_exporter": "python",
   "pygments_lexer": "ipython3",
   "version": "3.6.2"
  }
 },
 "nbformat": 4,
 "nbformat_minor": 2
}
