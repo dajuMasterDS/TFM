{
 "cells": [
  {
   "cell_type": "markdown",
   "metadata": {},
   "source": [
    "# Analysis of Industrial Pollutions"
   ]
  },
  {
   "cell_type": "markdown",
   "metadata": {},
   "source": [
    "### Import the libraries "
   ]
  },
  {
   "cell_type": "code",
   "execution_count": 1,
   "metadata": {},
   "outputs": [],
   "source": [
    "#Libraries for URL connection, downloading and unzip the files.\n",
    "import requests, zipfile, io\n",
    "\n",
    "#Libraries for handling the XML files.\n",
    "import xml.etree.ElementTree as ET\n",
    "\n",
    "#Libraries for manipulation data.\n",
    "import pandas as pd\n",
    "\n",
    "#Libraries to numeric calculus\n",
    "import numpy as np\n",
    "\n",
    "#Libraries for analysis and visualization data.\n",
    "import seaborn as sns"
   ]
  },
  {
   "cell_type": "markdown",
   "metadata": {},
   "source": [
    "### Connecting and Getting the data"
   ]
  },
  {
   "cell_type": "code",
   "execution_count": 4,
   "metadata": {},
   "outputs": [
    {
     "name": "stdout",
     "output_type": "stream",
     "text": [
      "Downloading and extracting Industry file...  http://www.prtr-es.es/informes/descargas/PRTR_Espana_MAPAMA_Complejos.zip\n"
     ]
    }
   ],
   "source": [
    "#Extraemos los datos de los Complejos industriales, directamente desde el zip.\n",
    "url_PRTR_Industry = 'http://www.prtr-es.es/informes/descargas/PRTR_Espana_MAPAMA_Complejos.zip'\n",
    "r = requests.get(url_PRTR_Industry)\n",
    "z = zipfile.ZipFile(io.BytesIO(r.content))\n",
    "z.extractall(\"../data/Industry/\")\n",
    "print (\"Downloading and extracting Industry file...  \" +url_PRTR_Industry)"
   ]
  },
  {
   "cell_type": "code",
   "execution_count": 5,
   "metadata": {},
   "outputs": [
    {
     "name": "stdout",
     "output_type": "stream",
     "text": [
      "Downloading and extracting Emissions files...  http://www.prtr-es.es/informes/descargas/PRTR_Espana_MAPAMA_emisiones2001.zip\n",
      "Downloading and extracting Emissions files...  http://www.prtr-es.es/informes/descargas/PRTR_Espana_MAPAMA_emisiones2002.zip\n",
      "Downloading and extracting Emissions files...  http://www.prtr-es.es/informes/descargas/PRTR_Espana_MAPAMA_emisiones2003.zip\n",
      "Downloading and extracting Emissions files...  http://www.prtr-es.es/informes/descargas/PRTR_Espana_MAPAMA_emisiones2004.zip\n",
      "Downloading and extracting Emissions files...  http://www.prtr-es.es/informes/descargas/PRTR_Espana_MAPAMA_emisiones2005.zip\n",
      "Downloading and extracting Emissions files...  http://www.prtr-es.es/informes/descargas/PRTR_Espana_MAPAMA_emisiones2006.zip\n",
      "Downloading and extracting Emissions files...  http://www.prtr-es.es/informes/descargas/PRTR_Espana_MAPAMA_emisiones2007.zip\n",
      "Downloading and extracting Emissions files...  http://www.prtr-es.es/informes/descargas/PRTR_Espana_MAPAMA_emisiones2008.zip\n",
      "Downloading and extracting Emissions files...  http://www.prtr-es.es/informes/descargas/PRTR_Espana_MAPAMA_emisiones2009.zip\n",
      "Downloading and extracting Emissions files...  http://www.prtr-es.es/informes/descargas/PRTR_Espana_MAPAMA_emisiones2010.zip\n",
      "Downloading and extracting Emissions files...  http://www.prtr-es.es/informes/descargas/PRTR_Espana_MAPAMA_emisiones2011.zip\n",
      "Downloading and extracting Emissions files...  http://www.prtr-es.es/informes/descargas/PRTR_Espana_MAPAMA_emisiones2012.zip\n",
      "Downloading and extracting Emissions files...  http://www.prtr-es.es/informes/descargas/PRTR_Espana_MAPAMA_emisiones2013.zip\n",
      "Downloading and extracting Emissions files...  http://www.prtr-es.es/informes/descargas/PRTR_Espana_MAPAMA_emisiones2014.zip\n",
      "Downloading and extracting Emissions files...  http://www.prtr-es.es/informes/descargas/PRTR_Espana_MAPAMA_emisiones2015.zip\n"
     ]
    }
   ],
   "source": [
    "#Extraemos los datos de Emisiones Industriales de la página web PRTR años 2001 al 2016\n",
    "list_anyos_e=range(2001,2016)\n",
    "for i in list_anyos_e:\n",
    "    url_PRTR_Emissions = \"http://www.prtr-es.es/informes/descargas/PRTR_Espana_MAPAMA_emisiones\"+str(i)+\".zip\"\n",
    "    r = requests.get(url_PRTR_Emissions)\n",
    "    z = zipfile.ZipFile(io.BytesIO(r.content))\n",
    "    z.extractall(\"../data/Emissions/\")\n",
    "    print (\"Downloading and extracting Emissions files...  \" +url_PRTR_Emissions)"
   ]
  },
  {
   "cell_type": "code",
   "execution_count": 3,
   "metadata": {},
   "outputs": [
    {
     "name": "stdout",
     "output_type": "stream",
     "text": [
      "Downloading and extracting Waste files...  http://www.prtr-es.es/informes/descargas/PRTR_Espana_MAPAMA_residuos2007.zip\n",
      "Downloading and extracting Waste files...  http://www.prtr-es.es/informes/descargas/PRTR_Espana_MAPAMA_residuos2008.zip\n",
      "Downloading and extracting Waste files...  http://www.prtr-es.es/informes/descargas/PRTR_Espana_MAPAMA_residuos2009.zip\n",
      "Downloading and extracting Waste files...  http://www.prtr-es.es/informes/descargas/PRTR_Espana_MAPAMA_residuos2010.zip\n",
      "Downloading and extracting Waste files...  http://www.prtr-es.es/informes/descargas/PRTR_Espana_MAPAMA_residuos2011.zip\n",
      "Downloading and extracting Waste files...  http://www.prtr-es.es/informes/descargas/PRTR_Espana_MAPAMA_residuos2012.zip\n",
      "Downloading and extracting Waste files...  http://www.prtr-es.es/informes/descargas/PRTR_Espana_MAPAMA_residuos2013.zip\n",
      "Downloading and extracting Waste files...  http://www.prtr-es.es/informes/descargas/PRTR_Espana_MAPAMA_residuos2014.zip\n",
      "Downloading and extracting Waste files...  http://www.prtr-es.es/informes/descargas/PRTR_Espana_MAPAMA_residuos2015.zip\n"
     ]
    }
   ],
   "source": [
    "#Extraemos los datos de Residuos Industriales de la página web PRTR años 2007 al 2016\n",
    "list_anyos_waste=range(2007,2016)\n",
    "for i in list_anyos_waste:\n",
    "    url_PRTR_Waste = \"http://www.prtr-es.es/informes/descargas/PRTR_Espana_MAPAMA_residuos\"+str(i)+\".zip\"\n",
    "    r = requests.get(url_PRTR_Waste)\n",
    "    z = zipfile.ZipFile(io.BytesIO(r.content))\n",
    "    z.extractall(\"../data/Waste/\")\n",
    "    print (\"Downloading and extracting Waste files...  \" +url_PRTR_Waste)"
   ]
  },
  {
   "cell_type": "markdown",
   "metadata": {},
   "source": [
    "### Reading the XML files and parsing the data"
   ]
  },
  {
   "cell_type": "code",
   "execution_count": 72,
   "metadata": {},
   "outputs": [],
   "source": [
    "root = ET.parse('../data/Industry/PRTR_Espana_MAPAMA_Complejos.xml').getroot()"
   ]
  },
  {
   "cell_type": "code",
   "execution_count": 9,
   "metadata": {},
   "outputs": [
    {
     "data": {
      "text/plain": [
       "<Element 'ArrayOfComplejo' at 0x000001D4960B4048>"
      ]
     },
     "execution_count": 9,
     "metadata": {},
     "output_type": "execute_result"
    }
   ],
   "source": [
    "root"
   ]
  },
  {
   "cell_type": "code",
   "execution_count": null,
   "metadata": {},
   "outputs": [],
   "source": [
    "\n"
   ]
  },
  {
   "cell_type": "code",
   "execution_count": null,
   "metadata": {},
   "outputs": [],
   "source": []
  }
 ],
 "metadata": {
  "kernelspec": {
   "display_name": "Python 3",
   "language": "python",
   "name": "python3"
  },
  "language_info": {
   "codemirror_mode": {
    "name": "ipython",
    "version": 3
   },
   "file_extension": ".py",
   "mimetype": "text/x-python",
   "name": "python",
   "nbconvert_exporter": "python",
   "pygments_lexer": "ipython3",
   "version": "3.6.4"
  }
 },
 "nbformat": 4,
 "nbformat_minor": 2
}
