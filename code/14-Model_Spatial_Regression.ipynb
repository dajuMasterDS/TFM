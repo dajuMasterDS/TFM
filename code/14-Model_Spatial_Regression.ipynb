{
 "cells": [
  {
   "cell_type": "markdown",
   "metadata": {},
   "source": [
    "# Spatial Autocorrelation Model"
   ]
  },
  {
   "cell_type": "code",
   "execution_count": 1,
   "metadata": {},
   "outputs": [],
   "source": [
    "import pandas as pd\n",
    "import numpy as np\n",
    "import csv\n",
    "\n",
    "#Dependencies: conda install -c conda-forge fiona shapely pyproj rtree\n",
    "import geopandas as gpd # geopandas.org for more information.\n",
    "from shapely.geometry import Point\n",
    "\n",
    "#Librerias de machine learnign\n",
    "from sklearn import cluster\n",
    "from sklearn.preprocessing import scale\n",
    "\n",
    "#Data visualization\n",
    "import seaborn as sns\n",
    "sns.set(style=\"whitegrid\")"
   ]
  },
  {
   "cell_type": "markdown",
   "metadata": {},
   "source": [
    "#### Librerias específicas para la Autocorrelación espacial con Pysal"
   ]
  },
  {
   "cell_type": "code",
   "execution_count": 2,
   "metadata": {},
   "outputs": [],
   "source": [
    "#For Spatial Correlation\n",
    "# !pip install pysal\n",
    "#http://pysal.readthedocs.io/en/latest/\n",
    "import pysal as ps\n",
    "from pysal.spreg import ols\n",
    "from pysal.spreg import ml_error\n",
    "from pysal.spreg import ml_lag"
   ]
  },
  {
   "cell_type": "markdown",
   "metadata": {},
   "source": [
    "Recogemos el CSV procedente del Modelo Knn-vecinos con la variable Contaminante categórica codificada"
   ]
  },
  {
   "cell_type": "code",
   "execution_count": 3,
   "metadata": {},
   "outputs": [],
   "source": [
    "csv_path_geom = '../data/csv/model_csv/df_model_geom_encoding.csv' #Con geometrias para leer con geopandas\n",
    "shp_path = '../data/shapes/Deaths/Deaths2015.shp'"
   ]
  },
  {
   "cell_type": "code",
   "execution_count": 4,
   "metadata": {
    "scrolled": true
   },
   "outputs": [],
   "source": [
    "gdf = gpd.read_file(shp_path)\n",
    "df = pd.read_csv(csv_path_geom, sep=';', encoding = 'utf-8', compression='gzip', index_col=False)"
   ]
  },
  {
   "cell_type": "code",
   "execution_count": 5,
   "metadata": {},
   "outputs": [],
   "source": [
    "df.drop(['Unnamed: 0'], axis=1, inplace=True) #Borramos columnas innecesarias"
   ]
  },
  {
   "cell_type": "code",
   "execution_count": 6,
   "metadata": {},
   "outputs": [],
   "source": [
    "pd.options.display.max_columns = None"
   ]
  },
  {
   "cell_type": "code",
   "execution_count": 7,
   "metadata": {},
   "outputs": [
    {
     "data": {
      "text/plain": [
       "Index(['target', 'Sexo', 'AnioCumplidos', 'TamanioMuniResi',\n",
       "       'total_anios_Expo_Id', 'Total_Kg_expo', 'Distance', 'geometry_death',\n",
       "       'Latitud', 'Longitud', 'Habitantes', 'LatitudE', 'LongitudE',\n",
       "       'Cont_Dióxido de carbono (CO2)', 'Cont_Partículas (PM10)'],\n",
       "      dtype='object')"
      ]
     },
     "execution_count": 7,
     "metadata": {},
     "output_type": "execute_result"
    }
   ],
   "source": [
    "df.columns"
   ]
  },
  {
   "cell_type": "markdown",
   "metadata": {},
   "source": [
    "Observamos que todas las variables son numéricas pero habrá que escalar estas"
   ]
  },
  {
   "cell_type": "code",
   "execution_count": 8,
   "metadata": {},
   "outputs": [
    {
     "data": {
      "text/plain": [
       "target                             int64\n",
       "Sexo                               int64\n",
       "AnioCumplidos                      int64\n",
       "TamanioMuniResi                    int64\n",
       "total_anios_Expo_Id                int64\n",
       "Total_Kg_expo                    float64\n",
       "Distance                           int64\n",
       "geometry_death                    object\n",
       "Latitud                          float64\n",
       "Longitud                         float64\n",
       "Habitantes                         int64\n",
       "LatitudE                         float64\n",
       "LongitudE                        float64\n",
       "Cont_Dióxido de carbono (CO2)      int64\n",
       "Cont_Partículas (PM10)             int64\n",
       "dtype: object"
      ]
     },
     "execution_count": 8,
     "metadata": {},
     "output_type": "execute_result"
    }
   ],
   "source": [
    "df.dtypes"
   ]
  },
  {
   "cell_type": "markdown",
   "metadata": {},
   "source": [
    "#### Pre-processing: Feature Scaling "
   ]
  },
  {
   "cell_type": "code",
   "execution_count": 9,
   "metadata": {},
   "outputs": [],
   "source": [
    "from sklearn.preprocessing import StandardScaler\n",
    "\n",
    "#Standarization de columnas importantes\n",
    "columnas = ['AnioCumplidos', 'TamanioMuniResi', 'total_anios_Expo_Id', 'Total_Kg_expo']\n",
    "scaler = StandardScaler()\n",
    "df[columnas] = scaler.fit_transform(df[columnas]) #Solo columnas de interés escaladas"
   ]
  },
  {
   "cell_type": "code",
   "execution_count": 10,
   "metadata": {
    "scrolled": true
   },
   "outputs": [
    {
     "data": {
      "text/html": [
       "<div>\n",
       "<style scoped>\n",
       "    .dataframe tbody tr th:only-of-type {\n",
       "        vertical-align: middle;\n",
       "    }\n",
       "\n",
       "    .dataframe tbody tr th {\n",
       "        vertical-align: top;\n",
       "    }\n",
       "\n",
       "    .dataframe thead th {\n",
       "        text-align: right;\n",
       "    }\n",
       "</style>\n",
       "<table border=\"1\" class=\"dataframe\">\n",
       "  <thead>\n",
       "    <tr style=\"text-align: right;\">\n",
       "      <th></th>\n",
       "      <th>target</th>\n",
       "      <th>Sexo</th>\n",
       "      <th>AnioCumplidos</th>\n",
       "      <th>TamanioMuniResi</th>\n",
       "      <th>total_anios_Expo_Id</th>\n",
       "      <th>Total_Kg_expo</th>\n",
       "      <th>Distance</th>\n",
       "      <th>geometry_death</th>\n",
       "      <th>Latitud</th>\n",
       "      <th>Longitud</th>\n",
       "      <th>Habitantes</th>\n",
       "      <th>LatitudE</th>\n",
       "      <th>LongitudE</th>\n",
       "      <th>Cont_Dióxido de carbono (CO2)</th>\n",
       "      <th>Cont_Partículas (PM10)</th>\n",
       "    </tr>\n",
       "  </thead>\n",
       "  <tbody>\n",
       "    <tr>\n",
       "      <th>0</th>\n",
       "      <td>1</td>\n",
       "      <td>1</td>\n",
       "      <td>-0.979792</td>\n",
       "      <td>-0.701283</td>\n",
       "      <td>1.237907</td>\n",
       "      <td>3.686373</td>\n",
       "      <td>4040</td>\n",
       "      <td>POINT (-5.348256 36.16117999999999)</td>\n",
       "      <td>36.16118</td>\n",
       "      <td>-5.348256</td>\n",
       "      <td>64595</td>\n",
       "      <td>36.181181</td>\n",
       "      <td>-5.385775</td>\n",
       "      <td>1</td>\n",
       "      <td>0</td>\n",
       "    </tr>\n",
       "    <tr>\n",
       "      <th>1</th>\n",
       "      <td>0</td>\n",
       "      <td>0</td>\n",
       "      <td>0.420983</td>\n",
       "      <td>-0.701283</td>\n",
       "      <td>1.237907</td>\n",
       "      <td>3.686373</td>\n",
       "      <td>4040</td>\n",
       "      <td>POINT (-5.348256 36.16117999999999)</td>\n",
       "      <td>36.16118</td>\n",
       "      <td>-5.348256</td>\n",
       "      <td>64595</td>\n",
       "      <td>36.181181</td>\n",
       "      <td>-5.385775</td>\n",
       "      <td>1</td>\n",
       "      <td>0</td>\n",
       "    </tr>\n",
       "    <tr>\n",
       "      <th>2</th>\n",
       "      <td>0</td>\n",
       "      <td>0</td>\n",
       "      <td>-0.463717</td>\n",
       "      <td>-0.701283</td>\n",
       "      <td>1.237907</td>\n",
       "      <td>3.686373</td>\n",
       "      <td>4040</td>\n",
       "      <td>POINT (-5.348256 36.16117999999999)</td>\n",
       "      <td>36.16118</td>\n",
       "      <td>-5.348256</td>\n",
       "      <td>64595</td>\n",
       "      <td>36.181181</td>\n",
       "      <td>-5.385775</td>\n",
       "      <td>1</td>\n",
       "      <td>0</td>\n",
       "    </tr>\n",
       "    <tr>\n",
       "      <th>3</th>\n",
       "      <td>0</td>\n",
       "      <td>0</td>\n",
       "      <td>-1.938217</td>\n",
       "      <td>-0.701283</td>\n",
       "      <td>1.237907</td>\n",
       "      <td>3.686373</td>\n",
       "      <td>4040</td>\n",
       "      <td>POINT (-5.348256 36.16117999999999)</td>\n",
       "      <td>36.16118</td>\n",
       "      <td>-5.348256</td>\n",
       "      <td>64595</td>\n",
       "      <td>36.181181</td>\n",
       "      <td>-5.385775</td>\n",
       "      <td>1</td>\n",
       "      <td>0</td>\n",
       "    </tr>\n",
       "    <tr>\n",
       "      <th>4</th>\n",
       "      <td>0</td>\n",
       "      <td>0</td>\n",
       "      <td>1.084508</td>\n",
       "      <td>-0.701283</td>\n",
       "      <td>1.237907</td>\n",
       "      <td>3.686373</td>\n",
       "      <td>4040</td>\n",
       "      <td>POINT (-5.348256 36.16117999999999)</td>\n",
       "      <td>36.16118</td>\n",
       "      <td>-5.348256</td>\n",
       "      <td>64595</td>\n",
       "      <td>36.181181</td>\n",
       "      <td>-5.385775</td>\n",
       "      <td>1</td>\n",
       "      <td>0</td>\n",
       "    </tr>\n",
       "  </tbody>\n",
       "</table>\n",
       "</div>"
      ],
      "text/plain": [
       "   target  Sexo  AnioCumplidos  TamanioMuniResi  total_anios_Expo_Id  \\\n",
       "0       1     1      -0.979792        -0.701283             1.237907   \n",
       "1       0     0       0.420983        -0.701283             1.237907   \n",
       "2       0     0      -0.463717        -0.701283             1.237907   \n",
       "3       0     0      -1.938217        -0.701283             1.237907   \n",
       "4       0     0       1.084508        -0.701283             1.237907   \n",
       "\n",
       "   Total_Kg_expo  Distance                       geometry_death   Latitud  \\\n",
       "0       3.686373      4040  POINT (-5.348256 36.16117999999999)  36.16118   \n",
       "1       3.686373      4040  POINT (-5.348256 36.16117999999999)  36.16118   \n",
       "2       3.686373      4040  POINT (-5.348256 36.16117999999999)  36.16118   \n",
       "3       3.686373      4040  POINT (-5.348256 36.16117999999999)  36.16118   \n",
       "4       3.686373      4040  POINT (-5.348256 36.16117999999999)  36.16118   \n",
       "\n",
       "   Longitud  Habitantes   LatitudE  LongitudE  Cont_Dióxido de carbono (CO2)  \\\n",
       "0 -5.348256       64595  36.181181  -5.385775                              1   \n",
       "1 -5.348256       64595  36.181181  -5.385775                              1   \n",
       "2 -5.348256       64595  36.181181  -5.385775                              1   \n",
       "3 -5.348256       64595  36.181181  -5.385775                              1   \n",
       "4 -5.348256       64595  36.181181  -5.385775                              1   \n",
       "\n",
       "   Cont_Partículas (PM10)  \n",
       "0                       0  \n",
       "1                       0  \n",
       "2                       0  \n",
       "3                       0  \n",
       "4                       0  "
      ]
     },
     "execution_count": 10,
     "metadata": {},
     "output_type": "execute_result"
    }
   ],
   "source": [
    "df.head()"
   ]
  },
  {
   "cell_type": "markdown",
   "metadata": {},
   "source": [
    "### Matrices de pesos espaciales (Spatial Weights) "
   ]
  },
  {
   "cell_type": "markdown",
   "metadata": {},
   "source": [
    "Debido a que el shape es muy pesado para realizar un análisis de regresión espacial primero vamos a realizar un muestreo aleatorio con numpy"
   ]
  },
  {
   "cell_type": "code",
   "execution_count": 11,
   "metadata": {},
   "outputs": [],
   "source": [
    "rows = np.random.choice(df.index.values, 5000)"
   ]
  },
  {
   "cell_type": "code",
   "execution_count": 12,
   "metadata": {},
   "outputs": [],
   "source": [
    "df_sam = df.loc[rows]"
   ]
  },
  {
   "cell_type": "code",
   "execution_count": 13,
   "metadata": {
    "scrolled": false
   },
   "outputs": [
    {
     "data": {
      "text/plain": [
       "(5000, 15)"
      ]
     },
     "execution_count": 13,
     "metadata": {},
     "output_type": "execute_result"
    }
   ],
   "source": [
    "df_sam.shape"
   ]
  },
  {
   "cell_type": "code",
   "execution_count": 14,
   "metadata": {},
   "outputs": [
    {
     "data": {
      "text/html": [
       "<div>\n",
       "<style scoped>\n",
       "    .dataframe tbody tr th:only-of-type {\n",
       "        vertical-align: middle;\n",
       "    }\n",
       "\n",
       "    .dataframe tbody tr th {\n",
       "        vertical-align: top;\n",
       "    }\n",
       "\n",
       "    .dataframe thead th {\n",
       "        text-align: right;\n",
       "    }\n",
       "</style>\n",
       "<table border=\"1\" class=\"dataframe\">\n",
       "  <thead>\n",
       "    <tr style=\"text-align: right;\">\n",
       "      <th></th>\n",
       "      <th>target</th>\n",
       "      <th>Sexo</th>\n",
       "      <th>AnioCumplidos</th>\n",
       "      <th>TamanioMuniResi</th>\n",
       "      <th>total_anios_Expo_Id</th>\n",
       "      <th>Total_Kg_expo</th>\n",
       "      <th>Distance</th>\n",
       "      <th>geometry_death</th>\n",
       "      <th>Latitud</th>\n",
       "      <th>Longitud</th>\n",
       "      <th>Habitantes</th>\n",
       "      <th>LatitudE</th>\n",
       "      <th>LongitudE</th>\n",
       "      <th>Cont_Dióxido de carbono (CO2)</th>\n",
       "      <th>Cont_Partículas (PM10)</th>\n",
       "    </tr>\n",
       "  </thead>\n",
       "  <tbody>\n",
       "    <tr>\n",
       "      <th>27451</th>\n",
       "      <td>0</td>\n",
       "      <td>0</td>\n",
       "      <td>1.010783</td>\n",
       "      <td>0.051207</td>\n",
       "      <td>-0.435590</td>\n",
       "      <td>4.176582</td>\n",
       "      <td>5045</td>\n",
       "      <td>POINT (-5.661925999999999 43.54526)</td>\n",
       "      <td>43.54526</td>\n",
       "      <td>-5.661926</td>\n",
       "      <td>277554</td>\n",
       "      <td>43.564759</td>\n",
       "      <td>-5.718301</td>\n",
       "      <td>1</td>\n",
       "      <td>0</td>\n",
       "    </tr>\n",
       "    <tr>\n",
       "      <th>21302</th>\n",
       "      <td>0</td>\n",
       "      <td>1</td>\n",
       "      <td>-0.537442</td>\n",
       "      <td>-1.453772</td>\n",
       "      <td>-0.993422</td>\n",
       "      <td>1.489945</td>\n",
       "      <td>5843</td>\n",
       "      <td>POINT (-1.240312000000001 38.02786)</td>\n",
       "      <td>38.02786</td>\n",
       "      <td>-1.240312</td>\n",
       "      <td>21062</td>\n",
       "      <td>37.975275</td>\n",
       "      <td>-1.236854</td>\n",
       "      <td>1</td>\n",
       "      <td>0</td>\n",
       "    </tr>\n",
       "    <tr>\n",
       "      <th>49161</th>\n",
       "      <td>0</td>\n",
       "      <td>0</td>\n",
       "      <td>-0.537442</td>\n",
       "      <td>0.803696</td>\n",
       "      <td>1.795739</td>\n",
       "      <td>-0.521643</td>\n",
       "      <td>427</td>\n",
       "      <td>POINT (2.169919000000001 41.38792)</td>\n",
       "      <td>41.38792</td>\n",
       "      <td>2.169919</td>\n",
       "      <td>1621537</td>\n",
       "      <td>41.385048</td>\n",
       "      <td>2.173313</td>\n",
       "      <td>0</td>\n",
       "      <td>1</td>\n",
       "    </tr>\n",
       "    <tr>\n",
       "      <th>83713</th>\n",
       "      <td>0</td>\n",
       "      <td>1</td>\n",
       "      <td>0.642158</td>\n",
       "      <td>0.051207</td>\n",
       "      <td>-0.993422</td>\n",
       "      <td>-0.522886</td>\n",
       "      <td>1599</td>\n",
       "      <td>POINT (-6.137173000000002 36.68656)</td>\n",
       "      <td>36.68656</td>\n",
       "      <td>-6.137173</td>\n",
       "      <td>207532</td>\n",
       "      <td>36.672600</td>\n",
       "      <td>-6.141580</td>\n",
       "      <td>0</td>\n",
       "      <td>1</td>\n",
       "    </tr>\n",
       "    <tr>\n",
       "      <th>60351</th>\n",
       "      <td>0</td>\n",
       "      <td>0</td>\n",
       "      <td>0.273533</td>\n",
       "      <td>0.051207</td>\n",
       "      <td>0.680075</td>\n",
       "      <td>-0.522562</td>\n",
       "      <td>6398</td>\n",
       "      <td>POINT (-16.31477999999999 28.48812)</td>\n",
       "      <td>28.48812</td>\n",
       "      <td>-16.314780</td>\n",
       "      <td>150661</td>\n",
       "      <td>28.456375</td>\n",
       "      <td>-16.261808</td>\n",
       "      <td>0</td>\n",
       "      <td>1</td>\n",
       "    </tr>\n",
       "  </tbody>\n",
       "</table>\n",
       "</div>"
      ],
      "text/plain": [
       "       target  Sexo  AnioCumplidos  TamanioMuniResi  total_anios_Expo_Id  \\\n",
       "27451       0     0       1.010783         0.051207            -0.435590   \n",
       "21302       0     1      -0.537442        -1.453772            -0.993422   \n",
       "49161       0     0      -0.537442         0.803696             1.795739   \n",
       "83713       0     1       0.642158         0.051207            -0.993422   \n",
       "60351       0     0       0.273533         0.051207             0.680075   \n",
       "\n",
       "       Total_Kg_expo  Distance                       geometry_death   Latitud  \\\n",
       "27451       4.176582      5045  POINT (-5.661925999999999 43.54526)  43.54526   \n",
       "21302       1.489945      5843  POINT (-1.240312000000001 38.02786)  38.02786   \n",
       "49161      -0.521643       427   POINT (2.169919000000001 41.38792)  41.38792   \n",
       "83713      -0.522886      1599  POINT (-6.137173000000002 36.68656)  36.68656   \n",
       "60351      -0.522562      6398  POINT (-16.31477999999999 28.48812)  28.48812   \n",
       "\n",
       "        Longitud  Habitantes   LatitudE  LongitudE  \\\n",
       "27451  -5.661926      277554  43.564759  -5.718301   \n",
       "21302  -1.240312       21062  37.975275  -1.236854   \n",
       "49161   2.169919     1621537  41.385048   2.173313   \n",
       "83713  -6.137173      207532  36.672600  -6.141580   \n",
       "60351 -16.314780      150661  28.456375 -16.261808   \n",
       "\n",
       "       Cont_Dióxido de carbono (CO2)  Cont_Partículas (PM10)  \n",
       "27451                              1                       0  \n",
       "21302                              1                       0  \n",
       "49161                              0                       1  \n",
       "83713                              0                       1  \n",
       "60351                              0                       1  "
      ]
     },
     "execution_count": 14,
     "metadata": {},
     "output_type": "execute_result"
    }
   ],
   "source": [
    "df_sam.head()"
   ]
  },
  {
   "cell_type": "markdown",
   "metadata": {},
   "source": [
    "### k-nearest neighbor weights"
   ]
  },
  {
   "cell_type": "markdown",
   "metadata": {},
   "source": [
    "Este método es una combinación de umbrales basados en la distancia junto con los pesos del kernel. En nuestro caso el ancho de banda se establece en un valor predeterminado y se fija a través de las observaciones"
   ]
  },
  {
   "cell_type": "code",
   "execution_count": 15,
   "metadata": {},
   "outputs": [],
   "source": [
    "del df_sam['geometry_death']"
   ]
  },
  {
   "cell_type": "markdown",
   "metadata": {},
   "source": [
    "En principio establecemos una matriz de pesos espaciales para k vecinos"
   ]
  },
  {
   "cell_type": "code",
   "execution_count": 16,
   "metadata": {},
   "outputs": [],
   "source": [
    "wknn = ps.weights.KNN(df_sam, k = 30)"
   ]
  },
  {
   "cell_type": "code",
   "execution_count": 17,
   "metadata": {},
   "outputs": [
    {
     "data": {
      "text/plain": [
       "150000.0"
      ]
     },
     "execution_count": 17,
     "metadata": {},
     "output_type": "execute_result"
    }
   ],
   "source": [
    "wknn.s0"
   ]
  },
  {
   "cell_type": "code",
   "execution_count": 18,
   "metadata": {
    "scrolled": false
   },
   "outputs": [
    {
     "data": {
      "text/plain": [
       "5000"
      ]
     },
     "execution_count": 18,
     "metadata": {},
     "output_type": "execute_result"
    }
   ],
   "source": [
    "wknn.n"
   ]
  },
  {
   "cell_type": "markdown",
   "metadata": {},
   "source": [
    "Estandarizamos rows"
   ]
  },
  {
   "cell_type": "code",
   "execution_count": 19,
   "metadata": {},
   "outputs": [],
   "source": [
    "wknn.transform = 'r'"
   ]
  },
  {
   "cell_type": "markdown",
   "metadata": {},
   "source": [
    "#### Realizamos una regresión lineal por MCO (Nonspatial regression)"
   ]
  },
  {
   "cell_type": "code",
   "execution_count": 20,
   "metadata": {},
   "outputs": [
    {
     "data": {
      "text/plain": [
       "Index(['target', 'Sexo', 'AnioCumplidos', 'TamanioMuniResi',\n",
       "       'total_anios_Expo_Id', 'Total_Kg_expo', 'Distance', 'Latitud',\n",
       "       'Longitud', 'Habitantes', 'LatitudE', 'LongitudE',\n",
       "       'Cont_Dióxido de carbono (CO2)', 'Cont_Partículas (PM10)'],\n",
       "      dtype='object')"
      ]
     },
     "execution_count": 20,
     "metadata": {},
     "output_type": "execute_result"
    }
   ],
   "source": [
    "df_sam.columns"
   ]
  },
  {
   "cell_type": "code",
   "execution_count": 21,
   "metadata": {},
   "outputs": [],
   "source": [
    "np.random.seed(12345)\n",
    "y = np.array(df_sam['target'])\n",
    "y.shape = (len(y),1)\n",
    "X= []\n",
    "X.append(df_sam['Sexo'])\n",
    "X.append(df_sam['AnioCumplidos'])\n",
    "X.append(df_sam['total_anios_Expo_Id'])\n",
    "X.append(df_sam['Total_Kg_expo'])\n",
    "\n",
    "X = np.array(X).T"
   ]
  },
  {
   "cell_type": "code",
   "execution_count": 22,
   "metadata": {},
   "outputs": [
    {
     "name": "stdout",
     "output_type": "stream",
     "text": [
      "REGRESSION\n",
      "----------\n",
      "SUMMARY OF OUTPUT: ORDINARY LEAST SQUARES\n",
      "-----------------------------------------\n",
      "Data set            :      Deaths\n",
      "Weights matrix      :        None\n",
      "Dependent Variable  :Causa fallecimiento CI10-34                Number of Observations:        5000\n",
      "Mean dependent var  :      0.1494                Number of Variables   :           5\n",
      "S.D. dependent var  :      0.3565                Degrees of Freedom    :        4995\n",
      "R-squared           :      0.0516\n",
      "Adjusted R-squared  :      0.0508\n",
      "Sum squared residual:     602.620                F-statistic           :     67.9240\n",
      "Sigma-square        :       0.121                Prob(F-statistic)     :   4.613e-56\n",
      "S.E. of regression  :       0.347                Log likelihood        :   -1804.925\n",
      "Sigma-square ML     :       0.121                Akaike info criterion :    3619.850\n",
      "S.E of regression ML:      0.3472                Schwarz criterion     :    3652.436\n",
      "\n",
      "------------------------------------------------------------------------------------\n",
      "            Variable     Coefficient       Std.Error     t-Statistic     Probability\n",
      "------------------------------------------------------------------------------------\n",
      "            CONSTANT       0.0856429       0.0076344      11.2180572       0.0000000\n",
      "                Sexo       0.1099486       0.0100223      10.9704246       0.0000000\n",
      "                Años      -0.0545625       0.0049253     -11.0780745       0.0000000\n",
      "     Total años Expo       0.0018681       0.0051062       0.3658467       0.7144949\n",
      "       Kgs Cont.expo       0.0031443       0.0051779       0.6072503       0.5437124\n",
      "------------------------------------------------------------------------------------\n",
      "\n",
      "REGRESSION DIAGNOSTICS\n",
      "MULTICOLLINEARITY CONDITION NUMBER            2.752\n",
      "\n",
      "TEST ON NORMALITY OF ERRORS\n",
      "TEST                             DF        VALUE           PROB\n",
      "Jarque-Bera                       2        3208.408           0.0000\n",
      "\n",
      "DIAGNOSTICS FOR HETEROSKEDASTICITY\n",
      "RANDOM COEFFICIENTS\n",
      "TEST                             DF        VALUE           PROB\n",
      "Breusch-Pagan test                4         307.708           0.0000\n",
      "Koenker-Bassett test              4         171.132           0.0000\n",
      "================================ END OF REPORT =====================================\n"
     ]
    }
   ],
   "source": [
    "ls = ols.OLS(y, X, name_y = 'Causa fallecimiento CI10-34', name_x = ['Sexo','Años','Total años Expo','Kgs Cont.expo'], name_ds = 'Deaths')\n",
    "print(ls.summary)"
   ]
  },
  {
   "cell_type": "code",
   "execution_count": 23,
   "metadata": {},
   "outputs": [],
   "source": [
    "lst = df_sam\n",
    "lst.index = pd.RangeIndex(len(lst.index))\n",
    "x = ['target', 'Sexo', 'AnioCumplidos', 'TamanioMuniResi',\n",
    "       'total_anios_Expo_Id', 'Total_Kg_expo', 'Distance', 'geometry_death',\n",
    "       'Latitud', 'Longitud', 'LatitudE', 'LongitudE',\n",
    "       'Cont_Dióxido de carbono (CO2)', 'Cont_Partículas (PM10)']"
   ]
  },
  {
   "cell_type": "markdown",
   "metadata": {},
   "source": [
    "Con la matriz de pesos espaciales vamos a realizar una regressión espacial para ver como afecta la distancia"
   ]
  },
  {
   "cell_type": "code",
   "execution_count": 24,
   "metadata": {},
   "outputs": [
    {
     "name": "stdout",
     "output_type": "stream",
     "text": [
      "Observed I: 0.14856297727045417 \n",
      "Expected I: -0.00020004000800160032 \n",
      "   p-value: 0.0\n"
     ]
    }
   ],
   "source": [
    "mi = ps.Moran(ls.u, wknn, two_tailed=False)\n",
    "print('Observed I:', mi.I, '\\nExpected I:', mi.EI, '\\n   p-value:', mi.p_norm)"
   ]
  },
  {
   "cell_type": "markdown",
   "metadata": {},
   "source": [
    "Utilizamos la función de spatial regression model para cuantificar la no-independencia espacial"
   ]
  },
  {
   "cell_type": "code",
   "execution_count": 25,
   "metadata": {},
   "outputs": [],
   "source": [
    "np.random.seed(12345)\n",
    "ye = np.array(df_sam['target'])\n",
    "ye.shape = (len(ye),1)\n",
    "Xe= []\n",
    "Xe.append(df_sam['Distance'])\n",
    "Xe.append(df_sam['AnioCumplidos'])\n",
    "Xe.append(df_sam['Sexo'])\n",
    "Xe.append(df_sam['total_anios_Expo_Id'])\n",
    "Xe.append(df_sam['Total_Kg_expo'])\n",
    "\n",
    "Xe = np.array(Xe).T"
   ]
  },
  {
   "cell_type": "code",
   "execution_count": 26,
   "metadata": {},
   "outputs": [
    {
     "name": "stderr",
     "output_type": "stream",
     "text": [
      "C:\\Users\\julia\\Anaconda3\\lib\\site-packages\\scipy\\optimize\\_minimize.py:643: RuntimeWarning: Method 'bounded' does not support relative tolerance in x; defaulting to absolute tolerance.\n",
      "  \"defaulting to absolute tolerance.\", RuntimeWarning)\n"
     ]
    },
    {
     "name": "stdout",
     "output_type": "stream",
     "text": [
      "REGRESSION\n",
      "----------\n",
      "SUMMARY OF OUTPUT: MAXIMUM LIKELIHOOD SPATIAL ERROR (METHOD = FULL)\n",
      "-------------------------------------------------------------------\n",
      "Data set            :Dataframe Deaths\n",
      "Weights matrix      : deaths wknn\n",
      "Dependent Variable  :Causa fallecimiento CI10-34                Number of Observations:        5000\n",
      "Mean dependent var  :      0.1494                Number of Variables   :           6\n",
      "S.D. dependent var  :      0.3565                Degrees of Freedom    :        4994\n",
      "Pseudo R-squared    :      0.0515\n",
      "Sigma-square ML     :       0.100                Log likelihood        :   -1429.550\n",
      "S.E of regression   :       0.316                Akaike info criterion :    2871.099\n",
      "                                                 Schwarz criterion     :    2910.203\n",
      "\n",
      "------------------------------------------------------------------------------------\n",
      "            Variable     Coefficient       Std.Error     z-Statistic     Probability\n",
      "------------------------------------------------------------------------------------\n",
      "            CONSTANT       0.1946010       0.0337555       5.7650110       0.0000000\n",
      "            Distance       0.0000007       0.0000066       0.0996794       0.9205989\n",
      "       AnioCumplidos      -0.0444010       0.0058287      -7.6176957       0.0000000\n",
      "                Sexo       0.1070491       0.0109253       9.7982451       0.0000000\n",
      "           Años expo       0.0040876       0.0099093       0.4125017       0.6799717\n",
      "    Cantidad kg expo       0.0022654       0.0088665       0.2554984       0.7983381\n",
      "              lambda       0.7965676       0.0150437      52.9500885       0.0000000\n",
      "------------------------------------------------------------------------------------\n",
      "================================ END OF REPORT =====================================\n"
     ]
    }
   ],
   "source": [
    "spat_err = ml_error.ML_Error(ye, Xe, wknn, \n",
    "                             name_y='Causa fallecimiento CI10-34', name_x=['Distance','AnioCumplidos','Sexo','Años expo','Cantidad kg expo'], \n",
    "                             name_w='deaths wknn', name_ds='Dataframe Deaths')\n",
    "print(spat_err.summary)"
   ]
  },
  {
   "cell_type": "markdown",
   "metadata": {},
   "source": [
    "## Modelos de regresión espacial"
   ]
  },
  {
   "cell_type": "markdown",
   "metadata": {},
   "source": [
    "### Global Autocorrelation"
   ]
  },
  {
   "cell_type": "markdown",
   "metadata": {},
   "source": [
    "#### Para ver la no independencia espacial, primero utilizamos la función I de Moran desde un punto de vista global"
   ]
  },
  {
   "cell_type": "markdown",
   "metadata": {},
   "source": [
    "Los valores de I pueden oscilar entre -1 (indicando dispersión perfecta) a 1 (correlación perfecta). Un valor de cero indica un patrón espacial aleatorio."
   ]
  },
  {
   "cell_type": "code",
   "execution_count": 27,
   "metadata": {},
   "outputs": [
    {
     "name": "stdout",
     "output_type": "stream",
     "text": [
      "Observed I: 0.14856297727045417 \n",
      "Expected I: -0.00020004000800160032 \n",
      "   p-value: 0.0\n"
     ]
    }
   ],
   "source": [
    "# Pasamos los weights matrix a la función pysal.Moran, a través de nuestro modelo residual (ls.u)\n",
    "mi = ps.Moran(ls.u, wknn, two_tailed=False)\n",
    "print('Observed I:', mi.I, '\\nExpected I:', mi.EI, '\\n   p-value:', mi.p_norm)"
   ]
  },
  {
   "cell_type": "markdown",
   "metadata": {},
   "source": [
    "#### Utilizamos otro estadístico la Geary’s C, que es más sensible a la autocorrelación espacial local."
   ]
  },
  {
   "cell_type": "code",
   "execution_count": 28,
   "metadata": {},
   "outputs": [
    {
     "name": "stdout",
     "output_type": "stream",
     "text": [
      "Observed C: 0.7575098313677547 \n",
      "Expected C: 1.0 \n",
      "Z-norm: -49.5131963369163 \n",
      "  p-value: 0.0\n"
     ]
    }
   ],
   "source": [
    "np.random.seed(12345)\n",
    "gc = ps.Geary(y, wknn)\n",
    "print('Observed C:' ,gc.C, '\\nExpected C:' ,gc.EC, '\\nZ-norm:', gc.z_norm, '\\n  p-value:', gc.p_norm)"
   ]
  },
  {
   "cell_type": "markdown",
   "metadata": {},
   "source": [
    "### Local Autocorrelation: Local Indicators of Spatial Association (LISAs) "
   ]
  },
  {
   "cell_type": "markdown",
   "metadata": {},
   "source": [
    "Vamos a utilizar un método de autocorrelación local quizá más real para nuestro estudio, utilizamos la I de Moran"
   ]
  },
  {
   "cell_type": "code",
   "execution_count": 29,
   "metadata": {},
   "outputs": [
    {
     "data": {
      "text/plain": [
       "5000"
      ]
     },
     "execution_count": 29,
     "metadata": {},
     "output_type": "execute_result"
    }
   ],
   "source": [
    "lm = ps.Moran_Local(y,wknn)\n",
    "lm.n"
   ]
  },
  {
   "cell_type": "markdown",
   "metadata": {},
   "source": [
    "El siguiente método arroja unos pseudo p-values para cada LISA"
   ]
  },
  {
   "cell_type": "code",
   "execution_count": 30,
   "metadata": {},
   "outputs": [
    {
     "data": {
      "text/plain": [
       "array([0.06 , 0.153, 0.005, ..., 0.151, 0.008, 0.314])"
      ]
     },
     "execution_count": 30,
     "metadata": {},
     "output_type": "execute_result"
    }
   ],
   "source": [
    "lm.p_sim"
   ]
  },
  {
   "cell_type": "markdown",
   "metadata": {},
   "source": [
    "Identificamos los valores LISA por debajo de 0.05 significantes y los indexamos"
   ]
  },
  {
   "cell_type": "code",
   "execution_count": 31,
   "metadata": {},
   "outputs": [
    {
     "name": "stdout",
     "output_type": "stream",
     "text": [
      "[0.005 0.03  0.008 ... 0.009 0.015 0.008]\n"
     ]
    }
   ],
   "source": [
    "sig = lm.p_sim < 0.05\n",
    "print(lm.p_sim[sig])"
   ]
  },
  {
   "cell_type": "markdown",
   "metadata": {},
   "source": [
    "Utilizamos el atributo q para localizar en que cuadrante del Scatter de Moran estan ubicados"
   ]
  },
  {
   "cell_type": "code",
   "execution_count": 32,
   "metadata": {},
   "outputs": [
    {
     "data": {
      "text/plain": [
       "array([3, 2, 3, ..., 3, 3, 3])"
      ]
     },
     "execution_count": 32,
     "metadata": {},
     "output_type": "execute_result"
    }
   ],
   "source": [
    "lm.q[sig]"
   ]
  },
  {
   "cell_type": "markdown",
   "metadata": {},
   "source": [
    "Vamos a utilizar las variables Sexo y habitantes del municipio basadas en la población con diferentes tamaños para tener en cuenta las diferencias entre la población y estimar el Is de Moran local"
   ]
  },
  {
   "cell_type": "code",
   "execution_count": 35,
   "metadata": {},
   "outputs": [
    {
     "name": "stderr",
     "output_type": "stream",
     "text": [
      "C:\\Users\\julia\\Anaconda3\\lib\\site-packages\\pysal\\esda\\smoothing.py:549: RuntimeWarning: divide by zero encountered in true_divide\n",
      "  y = e * 1.0 / b\n",
      "C:\\Users\\julia\\Anaconda3\\lib\\site-packages\\pysal\\esda\\smoothing.py:552: RuntimeWarning: invalid value encountered in multiply\n",
      "  s2 = sum(b * ((y - ebi_b) ** 2)) / b_sum\n",
      "C:\\Users\\julia\\Anaconda3\\lib\\site-packages\\pysal\\esda\\smoothing.py:554: RuntimeWarning: divide by zero encountered in true_divide\n",
      "  ebi_v_raw = ebi_a + ebi_b / b\n",
      "C:\\Users\\julia\\Anaconda3\\lib\\site-packages\\pysal\\esda\\smoothing.py:555: RuntimeWarning: invalid value encountered in less\n",
      "  ebi_v = np.where(ebi_v_raw < 0, ebi_b / b, ebi_v_raw)\n",
      "C:\\Users\\julia\\Anaconda3\\lib\\site-packages\\pysal\\esda\\smoothing.py:555: RuntimeWarning: divide by zero encountered in true_divide\n",
      "  ebi_v = np.where(ebi_v_raw < 0, ebi_b / b, ebi_v_raw)\n",
      "C:\\Users\\julia\\Anaconda3\\lib\\site-packages\\pysal\\esda\\moran.py:892: RuntimeWarning: invalid value encountered in greater\n",
      "  zp = self.z > 0\n",
      "C:\\Users\\julia\\Anaconda3\\lib\\site-packages\\pysal\\esda\\moran.py:893: RuntimeWarning: invalid value encountered in greater\n",
      "  lp = zl > 0\n",
      "C:\\Users\\julia\\Anaconda3\\lib\\site-packages\\pysal\\esda\\moran.py:842: RuntimeWarning: invalid value encountered in greater_equal\n",
      "  above = sim >= self.Is\n",
      "C:\\Users\\julia\\Anaconda3\\lib\\site-packages\\scipy\\stats\\_distn_infrastructure.py:879: RuntimeWarning: invalid value encountered in greater\n",
      "  return (self.a < x) & (x < self.b)\n",
      "C:\\Users\\julia\\Anaconda3\\lib\\site-packages\\scipy\\stats\\_distn_infrastructure.py:879: RuntimeWarning: invalid value encountered in less\n",
      "  return (self.a < x) & (x < self.b)\n",
      "C:\\Users\\julia\\Anaconda3\\lib\\site-packages\\scipy\\stats\\_distn_infrastructure.py:1738: RuntimeWarning: invalid value encountered in greater_equal\n",
      "  cond2 = (x >= self.b) & cond0\n"
     ]
    },
    {
     "data": {
      "text/plain": [
       "array([nan, nan, nan, ..., nan, nan, nan])"
      ]
     },
     "execution_count": 35,
     "metadata": {},
     "output_type": "execute_result"
    }
   ],
   "source": [
    "b = np.array(df_sam['Sexo'])\n",
    "e = np.array(df_sam['Habitantes'])\n",
    "\n",
    "np.random.seed(12345)\n",
    "lm = ps.esda.moran.Moran_Local_Rate(e, b, wknn)\n",
    "lm.Is[:]"
   ]
  },
  {
   "cell_type": "code",
   "execution_count": 36,
   "metadata": {},
   "outputs": [
    {
     "data": {
      "text/plain": [
       "array([0.001, 0.001, 0.001, ..., 0.001, 0.001, 0.001])"
      ]
     },
     "execution_count": 36,
     "metadata": {},
     "output_type": "execute_result"
    }
   ],
   "source": [
    "sig = lm.p_sim < 0.05\n",
    "lm.p_sim[sig]"
   ]
  }
 ],
 "metadata": {
  "kernelspec": {
   "display_name": "Python 3",
   "language": "python",
   "name": "python3"
  },
  "language_info": {
   "codemirror_mode": {
    "name": "ipython",
    "version": 3
   },
   "file_extension": ".py",
   "mimetype": "text/x-python",
   "name": "python",
   "nbconvert_exporter": "python",
   "pygments_lexer": "ipython3",
   "version": "3.6.4"
  }
 },
 "nbformat": 4,
 "nbformat_minor": 2
}
